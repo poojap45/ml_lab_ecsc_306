import tensorflow as tf
a = tf.constant([2.1,3.4,5,1.2])
b = tf.constant([9,10.1,2.3,11])

c = tf.reduce_mean(a)
d = tf.reduce_mean(b)

sesss = tf.Session()
print(sesss.run(c))
sesss = tf.Session()
print(sesss.run(c))

e = tf.subtract(a,c)
f = tf.subtract(b,d)

g = tf.square(e)
h = tf.square(f)

variance = tf.reduce_sum(g)

sesss = tf.Session()
print(sesss.run(variance))

#covarience

i = tf.subtract(a,c)
#(x(i)-mean(x))
j = tf.subtract(b,d)

#multiply (x(i)-mean(x))*(y(i)-mean(y))
k = tf.multiply(i,j)

#sum(x(i)-mean(x))*(y(i)-mean(y))
covariance=tf.reduce_sum(c)
sesss=tf.Session()
print(sesss.run(covariance))

#m=covariance(x,y)/variance(x)

m_graph=tf.div(covariance,variance)
sesss=tf.Session()
print(sesss.run(m_graph))

#m*mean(x)

p1=tf.multiply(m_graph,c)

#c=mean(y)-m*mean(x)

l =tf.subtract(d,p1)

with tf.Session() as sess:
    writer=tf.summary.FileWriter("tmp/tboard/output/lab2",sess.graph)
    print(sess.run(l))
    writer.close()
