{
 "cells": [
  {
   "cell_type": "markdown",
   "metadata": {
    "slideshow": {
     "slide_type": "slide"
    }
   },
   "source": [
    "Write a program using tensorflow to calculate : \n",
    "    $$y=mx+c$$"
   ]
  },
  {
   "cell_type": "markdown",
   "metadata": {
    "slideshow": {
     "slide_type": "slide"
    }
   },
   "source": [
    "### Part 1\n",
    "\n",
    "1. Read 2 arrays x,y containing floating point values\n",
    "2. Calculate mean of x & y\n",
    "3. Calculate variance for x\n",
    "    $$variance(x)=sum((x-mean(x))^2)$$\n",
    "4. Calculate covariance of x & y\n",
    "    $$covariance = sum((x(i) - mean(x)) * (y(i) - mean(y)))$$\n",
    "5. Calculate value of m\n",
    "    $$m = covariance(x,y)/variance(x)$$\n",
    "6. Calculate value of c\n",
    "    $$c = mean(y) -m* mean(x)$$\n",
    "    "
   ]
  },
  {
   "cell_type": "markdown",
   "metadata": {
    "slideshow": {
     "slide_type": "slide"
    }
   },
   "source": [
    "### Part 2\n",
    "\n",
    "1. Plot graph for actual values against predicted value\n",
    "2. Calculate root mean square error."
   ]
  },
  {
   "cell_type": "code",
   "execution_count": 8,
   "metadata": {},
   "outputs": [
    {
     "name": "stdout",
     "output_type": "stream",
     "text": [
      "2.925\n",
      "2.925\n",
      "8.1875\n",
      "2.925\n",
      "0.357252\n",
      "7.05504\n"
     ]
    }
   ],
   "source": [
    "import tensorflow as tf\n",
    "a = tf.constant([2.1,3.4,5,1.2])\n",
    "b = tf.constant([9,10.1,2.3,11])\n",
    "\n",
    "c = tf.reduce_mean(a)\n",
    "d = tf.reduce_mean(b)\n",
    "\n",
    "sesss = tf.Session()\n",
    "print(sesss.run(c))\n",
    "sesss = tf.Session()\n",
    "print(sesss.run(c))\n",
    "\n",
    "e = tf.subtract(a,c)\n",
    "f = tf.subtract(b,d)\n",
    "\n",
    "g = tf.square(e)\n",
    "h = tf.square(f)\n",
    "\n",
    "variance = tf.reduce_sum(g)\n",
    "\n",
    "sesss = tf.Session()\n",
    "print(sesss.run(variance))\n",
    "\n",
    "#covarience\n",
    "\n",
    "i = tf.subtract(a,c)\n",
    "#(x(i)-mean(x))\n",
    "j = tf.subtract(b,d)\n",
    "\n",
    "#multiply (x(i)-mean(x))*(y(i)-mean(y))\n",
    "k = tf.multiply(i,j)\n",
    "\n",
    "#sum(x(i)-mean(x))*(y(i)-mean(y))\n",
    "covariance=tf.reduce_sum(c)\n",
    "sesss=tf.Session()\n",
    "print(sesss.run(covariance))\n",
    "\n",
    "#m=covariance(x,y)/variance(x)\n",
    "\n",
    "m_graph=tf.div(covariance,variance)\n",
    "sesss=tf.Session()\n",
    "print(sesss.run(m_graph))\n",
    "\n",
    "#m*mean(x)\n",
    "\n",
    "p1=tf.multiply(m_graph,c)\n",
    "\n",
    "#c=mean(y)-m*mean(x)\n",
    "\n",
    "l =tf.subtract(d,p1)\n",
    "\n",
    "with tf.Session() as sess:\n",
    "    writer=tf.summary.FileWriter(\"tmp/tboard/output/lab2\",sess.graph)\n",
    "    print(sess.run(l))\n",
    "    writer.close()"
   ]
  },
  {
   "cell_type": "code",
   "execution_count": null,
   "metadata": {
    "collapsed": true
   },
   "outputs": [],
   "source": []
  }
 ],
 "metadata": {
  "celltoolbar": "Slideshow",
  "kernelspec": {
   "display_name": "Python 3",
   "language": "python",
   "name": "python3"
  },
  "language_info": {
   "codemirror_mode": {
    "name": "ipython",
    "version": 3
   },
   "file_extension": ".py",
   "mimetype": "text/x-python",
   "name": "python",
   "nbconvert_exporter": "python",
   "pygments_lexer": "ipython3",
   "version": "3.6.1"
  }
 },
 "nbformat": 4,
 "nbformat_minor": 2
}
